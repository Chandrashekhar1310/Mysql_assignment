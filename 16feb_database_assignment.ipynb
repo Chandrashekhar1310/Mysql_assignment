{
 "cells": [
  {
   "cell_type": "markdown",
   "id": "0d5a5adb-d8cf-4a28-97f7-2c346895aaa8",
   "metadata": {},
   "source": [
    "# Q1. What is a database? Differentiate between SQL and NoSQL databases."
   ]
  },
  {
   "cell_type": "markdown",
   "id": "283afcba-0ae4-4cc8-aad3-cf45f3312e88",
   "metadata": {},
   "source": [
    "A1. A database is a collection of data that is organized and stored in a way that allows for efficient retrieval, manipulation, and management of data. Databases can be used to store various types of data such as text, numbers, images, and videos.\n",
    "\n",
    "SQL (Structured Query Language) and NoSQL (Not Only SQL) are two different types of database management systems.\n",
    "\n",
    "SQL databases, also known as relational databases, are based on a tabular schema, where data is stored in tables with predefined columns and rows. SQL databases use a set of standardized commands, known as SQL, to access and manipulate data. SQL databases are ideal for applications that require complex querying, and for applications that need to maintain strong data consistency and integrity.\n",
    "\n",
    "On the other hand, NoSQL databases are based on a non-tabular schema and use a more flexible data model, such as document-oriented, key-value, graph, or column-family. NoSQL databases do not rely on a fixed schema and can handle unstructured and semi-structured data more efficiently than SQL databases. NoSQL databases are ideal for applications that require high scalability and availability, as well as for applications that deal with large volumes of data."
   ]
  },
  {
   "cell_type": "markdown",
   "id": "a00efabd-ef55-4379-a6b4-f9a348486a41",
   "metadata": {},
   "source": [
    "# Q2. What is DDL? Explain why CREATE, DROP, ALTER, and TRUNCATE are used with an example."
   ]
  },
  {
   "cell_type": "markdown",
   "id": "6a4a8453-76b0-4af4-bc31-920f9462c401",
   "metadata": {},
   "source": [
    "A2. DDL stands for Data Definition Language, which is a subset of SQL (Structured Query Language) used to define and manage the structure of a database. DDL statements are used to create, modify, and delete database objects such as tables, views, indexes, and constraints.\n",
    "\n",
    "Here are the explanations and examples of the four commonly used DDL statements:\n",
    "\n",
    "CREATE: The CREATE statement is used to create new database objects such as tables, views, and indexes. For example, the following statement creates a new table called \"employees\" with columns for employee ID, name, age, and salary:\n",
    "CREATE TABLE employees (\n",
    "  employee_id INT PRIMARY KEY,\n",
    "  name VARCHAR(50),\n",
    "  age INT,\n",
    "  salary DECIMAL(10, 2)\n",
    ");\n",
    "\n",
    "DROP: The DROP statement is used to remove a database object such as a table or index. For example, the following statement drops the \"employees\" table:\n",
    "DROP TABLE employees;\n",
    "\n",
    "ALTER: The ALTER statement is used to modify the structure of an existing database object. For example, the following statement adds a new column called \"department\" to the \"employees\" table:\n",
    "ALTER TABLE employees ADD COLUMN department VARCHAR(50);\n",
    "\n",
    "TRUNCATE: The TRUNCATE statement is used to remove all rows from a table, but keep the table structure intact. For example, the following statement removes all rows from the \"employees\" table:\n",
    "TRUNCATE TABLE employees;\n"
   ]
  },
  {
   "cell_type": "markdown",
   "id": "644455a0-4607-484b-87c9-60f0752ddf31",
   "metadata": {},
   "source": [
    "# Q3. What is DML? Explain INSERT, UPDATE, and DELETE with an example."
   ]
  },
  {
   "cell_type": "markdown",
   "id": "4aa60399-162d-42e9-ae05-1679b750feaf",
   "metadata": {},
   "source": [
    "DML stands for Data Manipulation Language, which is a subset of SQL (Structured Query Language) used to manipulate data stored in a database. DML statements are used to insert, update, and delete data in database tables.\n",
    "\n",
    "Here are the explanations and examples of the three commonly used DML statements:\n",
    "\n",
    "INSERT: The INSERT statement is used to add new rows to a table. For example, the following statement adds a new row to the \"employees\" table with values for employee ID, name, age, salary, and department:\n",
    "INSERT INTO employees (employee_id, name, age, salary, department)\n",
    "VALUES (1, 'John Smith', 35, 50000, 'Sales');\n",
    "\n",
    "UPDATE: The UPDATE statement is used to modify existing rows in a table. For example, the following statement updates the salary of the employee with an ID of 1 in the \"employees\" table:\n",
    "UPDATE employees\n",
    "SET salary = 60000\n",
    "WHERE employee_id = 1;\n",
    "\n",
    "DELETE: The DELETE statement is used to remove rows from a table. For example, the following statement removes the employee with an ID of 1 from the \"employees\" table:\n",
    "DELETE FROM employees\n",
    "WHERE employee_id = 1;\n"
   ]
  },
  {
   "cell_type": "markdown",
   "id": "fec1db93-937c-4b01-bcc5-8388fc0845ea",
   "metadata": {},
   "source": [
    "# Q4. What is DQL? Explain SELECT with an example."
   ]
  },
  {
   "cell_type": "markdown",
   "id": "94011977-f7f2-4a4a-ae8d-9eaf21a46297",
   "metadata": {},
   "source": [
    "DQL stands for Data Query Language, which is a subset of SQL (Structured Query Language) used to retrieve data from a database. DQL statements are used to retrieve data stored in database tables.\n",
    "\n",
    "The SELECT statement is the most commonly used DQL statement, and is used to retrieve data from one or more tables. Here is an example SELECT statement:\n",
    "\n",
    "SELECT employee_id, name, age, salary\n",
    "FROM employees\n",
    "WHERE department = 'Sales'\n",
    "ORDER BY salary DESC;\n"
   ]
  },
  {
   "cell_type": "markdown",
   "id": "acd4f102-0156-423c-b769-f771d8be660d",
   "metadata": {},
   "source": [
    "# Q5. Explain Primary Key and Foreign Key."
   ]
  },
  {
   "cell_type": "markdown",
   "id": "9b54e655-8996-4cf4-a3fd-a39075cee8eb",
   "metadata": {},
   "source": [
    "A Primary Key is a column or a set of columns in a table that uniquely identifies each row in the table. The primary key is used to ensure that each row in the table can be uniquely identified and accessed. It also enforces data integrity by preventing duplicate rows in the table. A table can have only one primary key, and it must be unique and not null.\n",
    "\n",
    "For example, in a table of employees, the employee_id column could be the primary key since it uniquely identifies each employee in the table. If another table needs to reference this table, it can use the employee_id column as a foreign key.\n",
    "\n",
    "A Foreign Key is a column or set of columns in a table that refers to the primary key of another table. It establishes a relationship between two tables based on the values in the columns. The foreign key is used to ensure referential integrity between the tables, meaning that the data in the tables remain consistent and accurate.\n",
    "\n",
    "For example, if we have another table called \"departments\", we can create a foreign key in the \"employees\" table that refers to the \"departments\" table's primary key. The foreign key column in the \"employees\" table would reference the primary key column in the \"departments\" table, establishing a relationship between the two tables based on the department ID."
   ]
  },
  {
   "cell_type": "markdown",
   "id": "4638782e-08e1-4b91-92a7-111d3d1575dc",
   "metadata": {},
   "source": [
    "# Q6. Write a python code to connect MySQL to python. Explain the cursor() and execute() method."
   ]
  },
  {
   "cell_type": "markdown",
   "id": "353d3503-8371-49ca-85ef-ac643210f6a5",
   "metadata": {},
   "source": [
    "To connect MySQL to Python, we need to use a MySQL connector package. The most commonly used MySQL connector package for Python is \"mysql-connector-python\". Here is a code snippet to connect to MySQL and perform a SELECT query using Python:\n",
    "\n",
    "import mysql.connector\n",
    "\n",
    "\n",
    "mydb = mysql.connector.connect(\n",
    "  host=\"localhost\",\n",
    "  user=\"yourusername\",\n",
    "  password=\"yourpassword\",\n",
    "  database=\"yourdatabase\"\n",
    ")\n",
    "\n",
    "\n",
    "mycursor = mydb.cursor()\n",
    "\n",
    "\n",
    "mycursor.execute(\"SELECT * FROM employees\")\n",
    "\n",
    "\n",
    "results = mycursor.fetchall()\n",
    "\n",
    "\n",
    "for row in results:\n",
    "  print(row)\n",
    "\n",
    "\n",
    "the cursor() method is used to create a cursor object, which is used to execute SQL statements and fetch the results. The execute() method is used to execute SQL statements on the database through the cursor object."
   ]
  },
  {
   "cell_type": "markdown",
   "id": "f45b18d1-3e13-4888-a4cf-699094be259c",
   "metadata": {},
   "source": [
    "# Q7. Give the order of execution of SQL clauses in an SQL query."
   ]
  },
  {
   "cell_type": "code",
   "execution_count": null,
   "id": "08172c54-c828-4015-8ad9-2533a1ba2b2b",
   "metadata": {},
   "outputs": [],
   "source": []
  }
 ],
 "metadata": {
  "kernelspec": {
   "display_name": "Python 3 (ipykernel)",
   "language": "python",
   "name": "python3"
  },
  "language_info": {
   "codemirror_mode": {
    "name": "ipython",
    "version": 3
   },
   "file_extension": ".py",
   "mimetype": "text/x-python",
   "name": "python",
   "nbconvert_exporter": "python",
   "pygments_lexer": "ipython3",
   "version": "3.10.8"
  }
 },
 "nbformat": 4,
 "nbformat_minor": 5
}
